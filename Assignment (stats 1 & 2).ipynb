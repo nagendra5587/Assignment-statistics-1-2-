{
 "cells": [
  {
   "cell_type": "code",
   "execution_count": null,
   "metadata": {},
   "outputs": [],
   "source": [
    "TASK 1\n",
    "1.You survey households in your area to find the average rent they are paying. Find the\n",
    "standard deviation from the following data:\n",
    "$1550, $1700, $900, $850, $1000, $950.\n",
    "\n",
    "SOLUTION:\n",
    "Step 1: Find the mean:\n",
    "($1550 + $1700 + $900 + $850 + $1000 + $950)/6 = $1158.33\n",
    "\n",
    "Step 2: Subtract the mean from each value. This gives you the differences:\n",
    "$1550 – $1158.33 = $391.67\n",
    "$1700 – $1158.33 = $541.67\n",
    "$900 – $1158.33 = -$258.33\n",
    "$850 – $1158.33 = -$308.33\n",
    "$1000 – $1158.33 = $158.33\n",
    "$950 – $1158.33 = $208.33\n",
    "\n",
    "Step 3: Square the differences you found in Step 3:\n",
    "$391.672 = 153405.3889\n",
    "$541.672 = 293406.3889\n",
    "-$258.332 = 66734.3889\n",
    "-$308.332 = 95067.3889\n",
    "$158.332 = 25068.3889\n",
    "$208.332 = 43401.3889\n",
    "\n",
    "Step 4: Add up all of the squares you found in Step 3 and divide by 5 (which is 6 – 1):\n",
    "(153405.3889 + 293406.3889 + 66734.3889 + 95067.3889 + 25068.3889 + 43401.3889) / 5 = 135416.66668\n",
    "\n",
    "Step 5: Find the square root of the number you found in Step 4 (the variance):\n",
    "√135416.66668 = 367.99\n",
    "Answer: The standard deviation is 367.99.\n",
    "    "
   ]
  },
  {
   "cell_type": "code",
   "execution_count": null,
   "metadata": {},
   "outputs": [],
   "source": [
    "2.Find the variance for the following set of data representing trees in California (heights in\n",
    "feet):\n",
    "3, 21, 98, 203, 17, 9\n",
    "\n",
    "SOLUTION:\n",
    "Step 1: Find the mean:\n",
    "(3 + 21 + 98 + 203 + 17 + 9)/6 = 58.5 feet\n",
    "\n",
    "Step 2: Subtract the mean from each value. This gives you the differences:\n",
    "3   – 58.5 = -55.5\n",
    "21  – 58.5 = -49.5\n",
    "98  – 58.5 = -41.5\n",
    "203 – 58.5 = -37.5\n",
    "17  – 58.5 = 39.5\n",
    "9   – 58.5 = 144.5\n",
    "\n",
    "Step 3: Square the differences you found in Step 3:\n",
    "-55.5 = 3080.25\n",
    "-49.5 = 2450.25\n",
    "-41.5 = 1722.25\n",
    "-37.5 = 1406.25\n",
    " 39.5 = 1560.25\n",
    "144.5 = 20880.25\n",
    "\n",
    "Step 4: Add up all of the squares you found in Step 3 and divide by 5 (which is 6 – 1):\n",
    "(3080.25 + 2450.25 + 1722.25 + 1406.25 + 1560.25 +  20880.25) / 5 = 31099.5/5 = 6219.9 \n",
    "Answer: The variance of following data is 6219.9 feet*2\n",
    "  "
   ]
  },
  {
   "cell_type": "code",
   "execution_count": null,
   "metadata": {},
   "outputs": [],
   "source": [
    "3.In a class on 100 students, 80 students passed in all subjects, 10 failed in one subject, 7 failed\n",
    "in two subjects and 3 failed in three subjects. Find the probability distribution of the variable for\n",
    "number of subjects a student from the given class has failed in.\n",
    "\n",
    "SOLUTION:\n",
    "For a random student,\n",
    "The probability of failing in 0 subjects,P(x = 0)= 0.8\n",
    "The probability of failing in 1 subjects,P(x = 1)= 0.1\n",
    "The probability of failing in 2 subjects,P(x = 2)= 0.07\n",
    "The probability of failing in 3 subjects,P(x = 3)= 0.03\n",
    "The probability distribution can be shown as:\n",
    "x   =  0    1    2     3 \n",
    "P(x)= 0.8  0.1  0.07  0.03  \n",
    "        "
   ]
  },
  {
   "cell_type": "code",
   "execution_count": null,
   "metadata": {},
   "outputs": [],
   "source": [
    "TASK2\n",
    "1.A test is conducted which is consisting of 20 MCQs (multiple choices questions) with every\n",
    "MCQ having its four options out of which only one is correct. Determine the probability that a\n",
    "person undertaking that test has answered exactly 5 questions wrong.\n",
    "\n",
    "SOLUTION:\n",
    "If he answered 5 wrong questions then he would have been answered 15 questions perfectly\n",
    "Hence probability of answering 15 correct questions out of 20 which is also equal to answering \n",
    "exactly 5 wrong answers.\n",
    "then p(x)= 15/20 = 0.75\n",
    "Answer: probability of answered exactly 5 questions wrong is 0.75"
   ]
  },
  {
   "cell_type": "code",
   "execution_count": null,
   "metadata": {},
   "outputs": [],
   "source": [
    "2.A die marked A to E is rolled 50 times. Find the probability of getting a “D” exactly 5 times.\n",
    "\n",
    "SOLUTION:\n",
    "Here, n = 50, k = 5, n - k = 45\n",
    "The probability of success = probability of getting a “D”= p = 1/5 = 0.2\n",
    "The probability of failure = probability of not getting a “D” = 1 - p = 4/5 = 0.8\n",
    "P(X = k) = (n! / (k! (n-k)!)) p^k * (1 - p) ^(n-k)\n",
    "P(X = 5) = (50! / (5! (45)!)) (0.2)^5 * (0.8) ^(45)\n",
    "P(X = 5) = 0.0295\n",
    "Answer: Probability of getting a “D” exactly 5 times is 0.0295"
   ]
  },
  {
   "cell_type": "code",
   "execution_count": null,
   "metadata": {},
   "outputs": [],
   "source": [
    "3.Two balls are drawn at random in succession without replacement from an urn containing 4\n",
    "red balls and 6 black balls.Find the probabilities of all the possible outcomes.\n",
    "\n",
    "SOLUTION:\n",
    "Red balls = 4\n",
    "Blue balls = 6\n",
    "\n",
    "CASE 1:If both balls are red\n",
    "first method: probability of both red balls = 4/10*3/9 = 2/15 = 0.133\n",
    "second method: probability of both red balls = [(4!/(2!*(4-2)!))*(6!/(0!*(6-0)!))]/(10!/(2!*(10-2)!))\n",
    "                                             = 2/15 = 0.133\n",
    "\n",
    "CASE 2: If one ball is red and one ball is blue.\n",
    "probability of one ball is red and one ball is blue ball = [(4!/(1!*(4-1)!))*(6!/(1!*(6-1)!))]/(10!/(2!*(10-2)!))\n",
    "                                                         = 8/15 = 0.533\n",
    "    \n",
    "CASE 3:If both balls are blue\n",
    "first method: probability of both blue balls = 6/10×5/9= 30/90=1/3 = 0.333\n",
    "second method: probability of both red balls = [(4!/(0!*(4-0)!))*(6!/(2!*(6-2)!))]/(10!/(2!*(10-2)!))\n",
    "                                             = 1/3 = 0.333"
   ]
  }
 ],
 "metadata": {
  "kernelspec": {
   "display_name": "Python 3",
   "language": "python",
   "name": "python3"
  },
  "language_info": {
   "codemirror_mode": {
    "name": "ipython",
    "version": 3
   },
   "file_extension": ".py",
   "mimetype": "text/x-python",
   "name": "python",
   "nbconvert_exporter": "python",
   "pygments_lexer": "ipython3",
   "version": "3.7.0"
  }
 },
 "nbformat": 4,
 "nbformat_minor": 2
}
